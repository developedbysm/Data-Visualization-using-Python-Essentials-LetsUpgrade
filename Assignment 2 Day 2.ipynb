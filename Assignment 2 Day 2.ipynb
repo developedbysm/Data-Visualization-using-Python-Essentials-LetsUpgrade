{
 "cells": [
  {
   "cell_type": "markdown",
   "id": "3552bf51",
   "metadata": {},
   "source": [
    "## Question 2"
   ]
  },
  {
   "cell_type": "markdown",
   "id": "d1593066",
   "metadata": {},
   "source": [
    "### Import Libraries"
   ]
  },
  {
   "cell_type": "code",
   "execution_count": 1,
   "id": "509cff28",
   "metadata": {},
   "outputs": [],
   "source": [
    "import pandas as pd\n",
    "import numpy as np\n",
    "from numpy.random import randn\n",
    "import matplotlib.pyplot as plt"
   ]
  },
  {
   "cell_type": "markdown",
   "id": "14311c9a",
   "metadata": {},
   "source": [
    "### Creating a dataframe on random number"
   ]
  },
  {
   "cell_type": "code",
   "execution_count": 2,
   "id": "291bbd57",
   "metadata": {},
   "outputs": [
    {
     "data": {
      "text/html": [
       "<div>\n",
       "<style scoped>\n",
       "    .dataframe tbody tr th:only-of-type {\n",
       "        vertical-align: middle;\n",
       "    }\n",
       "\n",
       "    .dataframe tbody tr th {\n",
       "        vertical-align: top;\n",
       "    }\n",
       "\n",
       "    .dataframe thead th {\n",
       "        text-align: right;\n",
       "    }\n",
       "</style>\n",
       "<table border=\"1\" class=\"dataframe\">\n",
       "  <thead>\n",
       "    <tr style=\"text-align: right;\">\n",
       "      <th></th>\n",
       "      <th>a</th>\n",
       "      <th>b</th>\n",
       "      <th>c</th>\n",
       "      <th>d</th>\n",
       "    </tr>\n",
       "  </thead>\n",
       "  <tbody>\n",
       "    <tr>\n",
       "      <th>0</th>\n",
       "      <td>2.143200</td>\n",
       "      <td>0.430242</td>\n",
       "      <td>0.044134</td>\n",
       "      <td>1.736360</td>\n",
       "    </tr>\n",
       "    <tr>\n",
       "      <th>1</th>\n",
       "      <td>-0.914394</td>\n",
       "      <td>0.671424</td>\n",
       "      <td>0.922016</td>\n",
       "      <td>-0.200115</td>\n",
       "    </tr>\n",
       "    <tr>\n",
       "      <th>2</th>\n",
       "      <td>-0.116969</td>\n",
       "      <td>-1.553022</td>\n",
       "      <td>0.870883</td>\n",
       "      <td>-0.935945</td>\n",
       "    </tr>\n",
       "    <tr>\n",
       "      <th>3</th>\n",
       "      <td>-0.656256</td>\n",
       "      <td>1.106555</td>\n",
       "      <td>2.440179</td>\n",
       "      <td>-0.518653</td>\n",
       "    </tr>\n",
       "    <tr>\n",
       "      <th>4</th>\n",
       "      <td>0.862009</td>\n",
       "      <td>0.768022</td>\n",
       "      <td>0.985115</td>\n",
       "      <td>0.135159</td>\n",
       "    </tr>\n",
       "    <tr>\n",
       "      <th>5</th>\n",
       "      <td>0.419019</td>\n",
       "      <td>-0.741738</td>\n",
       "      <td>-0.542579</td>\n",
       "      <td>0.198180</td>\n",
       "    </tr>\n",
       "    <tr>\n",
       "      <th>6</th>\n",
       "      <td>0.577417</td>\n",
       "      <td>-1.139843</td>\n",
       "      <td>0.618410</td>\n",
       "      <td>0.428400</td>\n",
       "    </tr>\n",
       "    <tr>\n",
       "      <th>7</th>\n",
       "      <td>0.277380</td>\n",
       "      <td>1.384838</td>\n",
       "      <td>-2.727379</td>\n",
       "      <td>-0.703456</td>\n",
       "    </tr>\n",
       "    <tr>\n",
       "      <th>8</th>\n",
       "      <td>0.150605</td>\n",
       "      <td>0.040102</td>\n",
       "      <td>-0.620126</td>\n",
       "      <td>0.134788</td>\n",
       "    </tr>\n",
       "    <tr>\n",
       "      <th>9</th>\n",
       "      <td>0.956066</td>\n",
       "      <td>0.169774</td>\n",
       "      <td>0.284861</td>\n",
       "      <td>0.655320</td>\n",
       "    </tr>\n",
       "  </tbody>\n",
       "</table>\n",
       "</div>"
      ],
      "text/plain": [
       "          a         b         c         d\n",
       "0  2.143200  0.430242  0.044134  1.736360\n",
       "1 -0.914394  0.671424  0.922016 -0.200115\n",
       "2 -0.116969 -1.553022  0.870883 -0.935945\n",
       "3 -0.656256  1.106555  2.440179 -0.518653\n",
       "4  0.862009  0.768022  0.985115  0.135159\n",
       "5  0.419019 -0.741738 -0.542579  0.198180\n",
       "6  0.577417 -1.139843  0.618410  0.428400\n",
       "7  0.277380  1.384838 -2.727379 -0.703456\n",
       "8  0.150605  0.040102 -0.620126  0.134788\n",
       "9  0.956066  0.169774  0.284861  0.655320"
      ]
     },
     "execution_count": 2,
     "metadata": {},
     "output_type": "execute_result"
    }
   ],
   "source": [
    "df=pd.DataFrame(randn(10,4), columns=['a','b','c','d'])\n",
    "df"
   ]
  },
  {
   "cell_type": "markdown",
   "id": "c079cec5",
   "metadata": {},
   "source": [
    "### Create Bar Plot"
   ]
  },
  {
   "cell_type": "code",
   "execution_count": 3,
   "id": "8f8ea918",
   "metadata": {},
   "outputs": [
    {
     "data": {
      "image/png": "[encoded data removed]",
      "text/plain": [
       "<Figure size 720x720 with 1 Axes>"
      ]
     },
     "metadata": {
      "needs_background": "light"
     },
     "output_type": "display_data"
    }
   ],
   "source": [
    "df.plot(kind='bar',figsize=(10,10),grid=True,legend=True)\n",
    "plt.xlabel('X-axis',color='grey')\n",
    "plt.ylabel('Y-axis',color='grey')\n",
    "plt.title(\"Bar Graph\",color='grey')\n",
    "plt.show()"
   ]
  }
 ],
 "metadata": {
  "kernelspec": {
   "display_name": "Python 3",
   "language": "python",
   "name": "python3"
  },
  "language_info": {
   "codemirror_mode": {
    "name": "ipython",
    "version": 3
   },
   "file_extension": ".py",
   "mimetype": "text/x-python",
   "name": "python",
   "nbconvert_exporter": "python",
   "pygments_lexer": "ipython3",
   "version": "3.8.8"
  }
 },
 "nbformat": 4,
 "nbformat_minor": 5
}
